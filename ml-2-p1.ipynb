{
 "cells": [
  {
   "cell_type": "code",
   "execution_count": 65,
   "id": "2b69c1e8",
   "metadata": {
    "scrolled": true
   },
   "outputs": [
    {
     "name": "stdout",
     "output_type": "stream",
     "text": [
     om requests-oauthlib>=0.7.0->google-auth-oauthlib<1.1,>=0.5->tensorboard<2.15,>=2.14->tensorflow-intel==2.14.0->tensorflow) (3.2.2)\n",
      "Note: you may need to restart the kernel to use updated packages.\n"
     ]
    }
   ],
   "source": [
    "pip install tensorflow"
   ]
  },
  {
   "cell_type": "code",
   "execution_count": 66,
   "id": "94f7e456",
   "metadata": {
    "scrolled": true
   },
   "outputs": [
    {
     "name": "stdout",
     "output_type": "stream",
     "text": [
      "Defaulting to user installation because normal site-packages is not writeable\n",
      "Requirement already satisfied: keras in c:\\users\\student.m309-36\\appdata\\roaming\\python\\python310\\site-packages (2.14.0)\n",
      "Note: you may need to restart the kernel to use updated packages.\n"
     ]
    }
   ],
   "source": [
    "pip install keras"
   ]
  },
  {
   "cell_type": "code",
   "execution_count": 67,
   "id": "87fbd340",
   "metadata": {},
   "outputs": [],
   "source": [
    "from nltk.tokenize import sent_tokenize,word_tokenize"
   ]
  },
  {
   "cell_type": "code",
   "execution_count": 68,
   "id": "f90b2ed7",
   "metadata": {},
   "outputs": [],
   "source": [
    "warnings.filterwarnings(action='ignore')"
   ]
  },
  {
   "cell_type": "code",
   "execution_count": 69,
   "id": "e602ba82",
   "metadata": {},
   "outputs": [],
   "source": [
    "import gensim\n",
    "from gensim.models import Word2Vec"
   ]
  },
  {
   "cell_type": "code",
   "execution_count": 70,
   "id": "229d8ccd",
   "metadata": {},
   "outputs": [],
   "source": [
    "sample = open(\"C:\\\\Users\\\\student.M309-36\\\\Desktop\\\\P1_alice.txt\", \"r\", encoding=\"utf-8\")\n",
    "s = sample.read()"
   ]
  },
  {
   "cell_type": "code",
   "execution_count": 71,
   "id": "17eaa6d5",
   "metadata": {},
   "outputs": [],
   "source": [
    "f=s.replace(\"\\n\",\" \")"
   ]
  },
  {
   "cell_type": "code",
   "execution_count": 72,
   "id": "844a94bd",
   "metadata": {},
   "outputs": [],
   "source": [
    "data=[]\n"
   ]
  },
  {
   "cell_type": "code",
   "execution_count": 73,
   "id": "042a540b",
   "metadata": {},
   "outputs": [],
   "source": [
    "for i in sent_tokenize(f):\n",
    "    temp=[]\n",
    "    for j in word_tokenize(i):\n",
    "        temp.append(j.lower())\n",
    "    data.append(temp)"
   ]
  },
  {
   "cell_type": "code",
   "execution_count": 74,
   "id": "c7c1c5c5",
   "metadata": {},
   "outputs": [
    {
     "name": "stderr",
     "output_type": "stream",
     "text": [
      "[nltk_data] Downloading package punkt to\n",
      "[nltk_data]     C:\\Users\\student.M309-36\\AppData\\Roaming\\nltk_data...\n",
      "[nltk_data]   Package punkt is already up-to-date!\n"
     ]
    },
    {
     "data": {
      "text/plain": [
       "True"
      ]
     },
     "execution_count": 74,
     "metadata": {},
     "output_type": "execute_result"
    }
   ],
   "source": [
    "import nltk\n",
    "nltk.download('punkt')"
   ]
  },
  {
   "cell_type": "code",
   "execution_count": 75,
   "id": "b4295c89",
   "metadata": {},
   "outputs": [],
   "source": [
    "model1=gensim.models.Word2Vec(data,min_count=1,vector_size=100,window=5)"
   ]
  },
  {
   "cell_type": "code",
   "execution_count": 76,
   "id": "790185da",
   "metadata": {},
   "outputs": [
    {
     "name": "stdout",
     "output_type": "stream",
     "text": [
      "cosine similarity between 'alice'and 'wonderland'-CBOW: 0.9898396\n"
     ]
    }
   ],
   "source": [
    "print(\"cosine similarity between 'alice'\"+\"and 'wonderland'-CBOW:\",model1.wv.similarity('alice','wonderland'))\n"
   ]
  },
  {
   "cell_type": "code",
   "execution_count": 77,
   "id": "9e81fe50",
   "metadata": {},
   "outputs": [
    {
     "name": "stdout",
     "output_type": "stream",
     "text": [
      "cosine similarity between 'alice'and 'machines'-CBOW: 0.89827704\n"
     ]
    }
   ],
   "source": [
    "print(\"cosine similarity between 'alice'\"+\"and 'machines'-CBOW:\",model1.wv.similarity('alice','machines'))\n"
   ]
  },
  {
   "cell_type": "code",
   "execution_count": 78,
   "id": "c680c587",
   "metadata": {},
   "outputs": [],
   "source": [
    "model2=gensim.models.Word2Vec(data,min_count=1,vector_size=100,window=5,sg=1)"
   ]
  },
  {
   "cell_type": "code",
   "execution_count": 79,
   "id": "ac44c6c8",
   "metadata": {},
   "outputs": [
    {
     "name": "stdout",
     "output_type": "stream",
     "text": [
      "cosine similarity between 'alice'and 'wonderland'-Skip Gram: 0.8323401\n"
     ]
    }
   ],
   "source": [
    "print(\"cosine similarity between 'alice'\"+\"and 'wonderland'-Skip Gram:\",model2.wv.similarity('alice','wonderland'))"
   ]
  },
  {
   "cell_type": "code",
   "execution_count": 80,
   "id": "46aa87b9",
   "metadata": {},
   "outputs": [
    {
     "name": "stdout",
     "output_type": "stream",
     "text": [
      "cosine similarity between 'alice'and 'machines'-Skip Gram: 0.93934566\n"
     ]
    }
   ],
   "source": [
    "print(\"cosine similarity between 'alice'\"+\"and 'machines'-Skip Gram:\",model2.wv.similarity('alice','machines'))"
   ]
  }
 ],
 "metadata": {
  "kernelspec": {
   "display_name": "Python 3 (ipykernel)",
   "language": "python",
   "name": "python3"
  },
  "language_info": {
   "codemirror_mode": {
    "name": "ipython",
    "version": 3
   },
   "file_extension": ".py",
   "mimetype": "text/x-python",
   "name": "python",
   "nbconvert_exporter": "python",
   "pygments_lexer": "ipython3",
   "version": "3.10.9"
  }
 },
 "nbformat": 4,
 "nbformat_minor": 5
}
